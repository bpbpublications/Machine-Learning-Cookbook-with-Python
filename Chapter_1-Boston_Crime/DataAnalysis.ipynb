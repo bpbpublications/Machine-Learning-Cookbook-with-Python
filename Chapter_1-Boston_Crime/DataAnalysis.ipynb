{
 "cells": [
  {
   "cell_type": "markdown",
   "metadata": {},
   "source": [
    "# Boston Crime Dataset\n"
   ]
  },
  {
   "cell_type": "markdown",
   "metadata": {},
   "source": [
    "## Import Libraries <a class=\"anchor\" id=\"import-libraries\"></a>"
   ]
  },
  {
   "cell_type": "code",
   "execution_count": 1,
   "metadata": {},
   "outputs": [],
   "source": [
    "import pandas as pd\n",
    "import matplotlib.pyplot as plt\n",
    "%matplotlib inline \n",
    "import seaborn as sns\n",
    "import folium\n",
    "from folium.plugins import HeatMap\n",
    "import zipfile"
   ]
  },
  {
   "cell_type": "markdown",
   "metadata": {},
   "source": [
    "## Load Datasets"
   ]
  },
  {
   "cell_type": "code",
   "execution_count": 2,
   "metadata": {},
   "outputs": [],
   "source": [
    "with zipfile.ZipFile('input/crime.csv.zip', 'r') as zip_ref:\n",
    "    zip_ref.extractall('input')\n",
    "\n",
    "crime_data = pd.read_csv(\"input/crime.csv\", engine='python')"
   ]
  },
  {
   "cell_type": "markdown",
   "metadata": {},
   "source": [
    "## Basis Analysis"
   ]
  },
  {
   "cell_type": "code",
   "execution_count": 3,
   "metadata": {},
   "outputs": [
    {
     "data": {
      "text/plain": [
       "INCIDENT_NUMBER         object\n",
       "OFFENSE_CODE             int64\n",
       "OFFENSE_CODE_GROUP      object\n",
       "OFFENSE_DESCRIPTION     object\n",
       "DISTRICT                object\n",
       "REPORTING_AREA          object\n",
       "SHOOTING                object\n",
       "OCCURRED_ON_DATE        object\n",
       "YEAR                     int64\n",
       "MONTH                    int64\n",
       "DAY_OF_WEEK             object\n",
       "HOUR                     int64\n",
       "UCR_PART                object\n",
       "STREET                  object\n",
       "Lat                    float64\n",
       "Long                   float64\n",
       "Location                object\n",
       "dtype: object"
      ]
     },
     "execution_count": 3,
     "metadata": {},
     "output_type": "execute_result"
    }
   ],
   "source": [
    "crime_data.dtypes"
   ]
  },
  {
   "cell_type": "code",
   "execution_count": 4,
   "metadata": {},
   "outputs": [
    {
     "data": {
      "text/plain": [
       "INCIDENT_NUMBER             0\n",
       "OFFENSE_CODE                0\n",
       "OFFENSE_CODE_GROUP          0\n",
       "OFFENSE_DESCRIPTION         0\n",
       "DISTRICT                 2146\n",
       "REPORTING_AREA              0\n",
       "SHOOTING               415383\n",
       "OCCURRED_ON_DATE            0\n",
       "YEAR                        0\n",
       "MONTH                       0\n",
       "DAY_OF_WEEK                 0\n",
       "HOUR                        0\n",
       "UCR_PART                  109\n",
       "STREET                  12233\n",
       "Lat                     27378\n",
       "Long                    27378\n",
       "Location                    0\n",
       "dtype: int64"
      ]
     },
     "execution_count": 4,
     "metadata": {},
     "output_type": "execute_result"
    }
   ],
   "source": [
    "crime_data.isnull().sum()"
   ]
  },
  {
   "cell_type": "code",
   "execution_count": 5,
   "metadata": {},
   "outputs": [
    {
     "data": {
      "text/plain": [
       "Y    1723\n",
       "Name: SHOOTING, dtype: int64"
      ]
     },
     "execution_count": 5,
     "metadata": {},
     "output_type": "execute_result"
    }
   ],
   "source": [
    "crime_data.SHOOTING.value_counts()"
   ]
  },
  {
   "cell_type": "code",
   "execution_count": 6,
   "metadata": {},
   "outputs": [],
   "source": [
    "crime_data.SHOOTING.fillna('N', inplace=True)\n",
    "crime_data.SHOOTING.replace({'Y':True, 'N':False}, inplace=True)"
   ]
  },
  {
   "cell_type": "code",
   "execution_count": 7,
   "metadata": {},
   "outputs": [
    {
     "data": {
      "text/plain": [
       "False    415383\n",
       "True       1723\n",
       "Name: SHOOTING, dtype: int64"
      ]
     },
     "execution_count": 7,
     "metadata": {},
     "output_type": "execute_result"
    }
   ],
   "source": [
    "crime_data.SHOOTING.value_counts(dropna=False)"
   ]
  },
  {
   "cell_type": "code",
   "execution_count": 8,
   "metadata": {
    "scrolled": false
   },
   "outputs": [
    {
     "data": {
      "text/plain": [
       "WASHINGTON ST          18869\n",
       "NaN                    12233\n",
       "BLUE HILL AVE          10347\n",
       "BOYLSTON ST             9329\n",
       "DORCHESTER AVE          6584\n",
       "TREMONT ST              6461\n",
       "HARRISON AVE            6237\n",
       "MASSACHUSETTS AVE       6204\n",
       "CENTRE ST               5773\n",
       "COMMONWEALTH AVE        5394\n",
       "HYDE PARK AVE           4635\n",
       "COLUMBIA RD             4227\n",
       "HUNTINGTON AVE          3911\n",
       "RIVER ST                3798\n",
       "DUDLEY ST               3258\n",
       "COLUMBUS AVE            3067\n",
       "WARREN ST               2989\n",
       "ADAMS ST                2670\n",
       "NEWBURY ST              2534\n",
       "BEACON ST               2530\n",
       "CAMBRIDGE ST            2262\n",
       "BOWDOIN ST              2237\n",
       "AMERICAN LEGION HWY     2160\n",
       "GENEVA AVE              2073\n",
       "W BROADWAY              2073\n",
       "ALBANY ST               1988\n",
       "ALLSTATE RD             1722\n",
       "SUMMER ST               1710\n",
       "NEW SUDBURY ST          1630\n",
       "BORDER ST               1593\n",
       "                       ...  \n",
       "LANSDOWNE                  1\n",
       "WOODBINE                   1\n",
       "GUEST                      1\n",
       "NEW ENGLAD                 1\n",
       "WESTMOOR CIR               1\n",
       "HULL BAY                   1\n",
       "98 WOODLEDGE ST            1\n",
       "MORRISSEY                  1\n",
       "CALLAHAN WAY               1\n",
       "CAROL                      1\n",
       "OAKLAND PL                 1\n",
       "RAYNOR                     1\n",
       "PERRY                      1\n",
       "PAIGE AVE                  1\n",
       "MARVIN                     1\n",
       "NELSON DR                  1\n",
       "ST MARKS RD                1\n",
       "MASSPORT HAUL RD           1\n",
       "MILFORD                    1\n",
       "WEDGEWOOD RD               1\n",
       "SUTHERLAND                 1\n",
       "ANDREW STATION             1\n",
       "SPECTACLE ISLAND           1\n",
       "BI HOSP                    1\n",
       "RYAN RD                    1\n",
       "LINNET ST                  1\n",
       "DUNGARVEN RD               1\n",
       "ROWES WARF                 1\n",
       "ALEXANDER                  1\n",
       "HIGH RD                    1\n",
       "Name: STREET, Length: 4862, dtype: int64"
      ]
     },
     "execution_count": 8,
     "metadata": {},
     "output_type": "execute_result"
    }
   ],
   "source": [
    "crime_data.STREET.value_counts(dropna=False)"
   ]
  },
  {
   "cell_type": "code",
   "execution_count": 9,
   "metadata": {
    "scrolled": false
   },
   "outputs": [
    {
     "data": {
      "text/plain": [
       "I152071596       20\n",
       "I172053750       18\n",
       "I192025403       15\n",
       "I182051210       14\n",
       "I162067346       14\n",
       "I162030584       13\n",
       "I130041200-00    13\n",
       "I162045234       12\n",
       "I182093742       12\n",
       "I192008813       12\n",
       "I152097957       12\n",
       "I182044546       12\n",
       "I192062990       11\n",
       "I130194606-00    11\n",
       "I152080623       11\n",
       "I070720870-00    11\n",
       "I152054787       10\n",
       "I172013170       10\n",
       "I192003542       10\n",
       "I162101004       10\n",
       "I182093874       10\n",
       "I182058835       10\n",
       "I192009132       10\n",
       "I182037657       10\n",
       "I182065208       10\n",
       "I172096394       10\n",
       "I172105110       10\n",
       "I162098170        9\n",
       "I172056883        9\n",
       "I162071327        9\n",
       "                 ..\n",
       "I152071205        1\n",
       "I192048876        1\n",
       "I152071992        1\n",
       "I182036997        1\n",
       "I172093263        1\n",
       "I172009495        1\n",
       "I182083620        1\n",
       "I162083155        1\n",
       "I162053193        1\n",
       "I172030845        1\n",
       "I172022615        1\n",
       "I182024534        1\n",
       "I172016186        1\n",
       "I172084971        1\n",
       "I182042540        1\n",
       "I162026873        1\n",
       "I152077518        1\n",
       "I172022230        1\n",
       "I162051710        1\n",
       "I182100690        1\n",
       "I162000137        1\n",
       "I172066213        1\n",
       "I182100404        1\n",
       "I182042415        1\n",
       "I162002715        1\n",
       "I182095285        1\n",
       "I162026823        1\n",
       "I182006257        1\n",
       "I182086820        1\n",
       "I172107586        1\n",
       "Name: INCIDENT_NUMBER, Length: 367158, dtype: int64"
      ]
     },
     "execution_count": 9,
     "metadata": {},
     "output_type": "execute_result"
    }
   ],
   "source": [
    "crime_data.INCIDENT_NUMBER.value_counts()"
   ]
  },
  {
   "cell_type": "code",
   "execution_count": 10,
   "metadata": {
    "scrolled": true
   },
   "outputs": [
    {
     "data": {
      "text/plain": [
       "INCIDENT_NUMBER                         I192068458\n",
       "OFFENSE_CODE                                  3112\n",
       "OFFENSE_CODE_GROUP        Landlord/Tenant Disputes\n",
       "OFFENSE_DESCRIPTION      LANDLORD - TENANT SERVICE\n",
       "DISTRICT                                       C11\n",
       "REPORTING_AREA                                 336\n",
       "SHOOTING                                     False\n",
       "OCCURRED_ON_DATE               2019-08-28 20:53:00\n",
       "YEAR                                          2019\n",
       "MONTH                                            8\n",
       "DAY_OF_WEEK                              Wednesday\n",
       "HOUR                                            20\n",
       "UCR_PART                                Part Three\n",
       "STREET                                   NORTON ST\n",
       "Lat                                        42.3063\n",
       "Long                                      -71.0686\n",
       "Location               (42.30626521, -71.06864556)\n",
       "Name: 1, dtype: object"
      ]
     },
     "execution_count": 10,
     "metadata": {},
     "output_type": "execute_result"
    }
   ],
   "source": [
    "crime_data.loc[1]"
   ]
  },
  {
   "cell_type": "code",
   "execution_count": 11,
   "metadata": {},
   "outputs": [
    {
     "data": {
      "text/plain": [
       "'(42.30626521, -71.06864556)'"
      ]
     },
     "execution_count": 11,
     "metadata": {},
     "output_type": "execute_result"
    }
   ],
   "source": [
    "crime_data.loc[1].Location"
   ]
  },
  {
   "cell_type": "code",
   "execution_count": 12,
   "metadata": {},
   "outputs": [
    {
     "data": {
      "text/html": [
       "<div>\n",
       "<style scoped>\n",
       "    .dataframe tbody tr th:only-of-type {\n",
       "        vertical-align: middle;\n",
       "    }\n",
       "\n",
       "    .dataframe tbody tr th {\n",
       "        vertical-align: top;\n",
       "    }\n",
       "\n",
       "    .dataframe thead th {\n",
       "        text-align: right;\n",
       "    }\n",
       "</style>\n",
       "<table border=\"1\" class=\"dataframe\">\n",
       "  <thead>\n",
       "    <tr style=\"text-align: right;\">\n",
       "      <th></th>\n",
       "      <th>55846</th>\n",
       "      <th>55847</th>\n",
       "      <th>55848</th>\n",
       "    </tr>\n",
       "  </thead>\n",
       "  <tbody>\n",
       "    <tr>\n",
       "      <th>INCIDENT_NUMBER</th>\n",
       "      <td>I192009132</td>\n",
       "      <td>I192009132</td>\n",
       "      <td>I192009132</td>\n",
       "    </tr>\n",
       "    <tr>\n",
       "      <th>OFFENSE_CODE</th>\n",
       "      <td>1841</td>\n",
       "      <td>111</td>\n",
       "      <td>2010</td>\n",
       "    </tr>\n",
       "    <tr>\n",
       "      <th>OFFENSE_CODE_GROUP</th>\n",
       "      <td>Drug Violation</td>\n",
       "      <td>Homicide</td>\n",
       "      <td>HOME INVASION</td>\n",
       "    </tr>\n",
       "    <tr>\n",
       "      <th>OFFENSE_DESCRIPTION</th>\n",
       "      <td>DRUGS - POSS CLASS A - INTENT TO MFR DIST DISP</td>\n",
       "      <td>MURDER, NON-NEGLIGIENT MANSLAUGHTER</td>\n",
       "      <td>HOME INVASION</td>\n",
       "    </tr>\n",
       "    <tr>\n",
       "      <th>DISTRICT</th>\n",
       "      <td>D4</td>\n",
       "      <td>D4</td>\n",
       "      <td>D4</td>\n",
       "    </tr>\n",
       "    <tr>\n",
       "      <th>REPORTING_AREA</th>\n",
       "      <td>273</td>\n",
       "      <td>273</td>\n",
       "      <td>273</td>\n",
       "    </tr>\n",
       "    <tr>\n",
       "      <th>SHOOTING</th>\n",
       "      <td>True</td>\n",
       "      <td>True</td>\n",
       "      <td>True</td>\n",
       "    </tr>\n",
       "    <tr>\n",
       "      <th>OCCURRED_ON_DATE</th>\n",
       "      <td>2019-02-04 12:35:00</td>\n",
       "      <td>2019-02-04 12:35:00</td>\n",
       "      <td>2019-02-04 12:35:00</td>\n",
       "    </tr>\n",
       "    <tr>\n",
       "      <th>YEAR</th>\n",
       "      <td>2019</td>\n",
       "      <td>2019</td>\n",
       "      <td>2019</td>\n",
       "    </tr>\n",
       "    <tr>\n",
       "      <th>MONTH</th>\n",
       "      <td>2</td>\n",
       "      <td>2</td>\n",
       "      <td>2</td>\n",
       "    </tr>\n",
       "    <tr>\n",
       "      <th>DAY_OF_WEEK</th>\n",
       "      <td>Monday</td>\n",
       "      <td>Monday</td>\n",
       "      <td>Monday</td>\n",
       "    </tr>\n",
       "    <tr>\n",
       "      <th>HOUR</th>\n",
       "      <td>12</td>\n",
       "      <td>12</td>\n",
       "      <td>12</td>\n",
       "    </tr>\n",
       "    <tr>\n",
       "      <th>UCR_PART</th>\n",
       "      <td>Part Two</td>\n",
       "      <td>Part One</td>\n",
       "      <td>NaN</td>\n",
       "    </tr>\n",
       "    <tr>\n",
       "      <th>STREET</th>\n",
       "      <td>NORTHAMPTON ST</td>\n",
       "      <td>NORTHAMPTON ST</td>\n",
       "      <td>NORTHAMPTON ST</td>\n",
       "    </tr>\n",
       "    <tr>\n",
       "      <th>Lat</th>\n",
       "      <td>42.3373</td>\n",
       "      <td>42.3373</td>\n",
       "      <td>42.3373</td>\n",
       "    </tr>\n",
       "    <tr>\n",
       "      <th>Long</th>\n",
       "      <td>-71.0792</td>\n",
       "      <td>-71.0792</td>\n",
       "      <td>-71.0792</td>\n",
       "    </tr>\n",
       "    <tr>\n",
       "      <th>Location</th>\n",
       "      <td>(42.33729692, -71.07919582)</td>\n",
       "      <td>(42.33729692, -71.07919582)</td>\n",
       "      <td>(42.33729692, -71.07919582)</td>\n",
       "    </tr>\n",
       "  </tbody>\n",
       "</table>\n",
       "</div>"
      ],
      "text/plain": [
       "                                                              55846  \\\n",
       "INCIDENT_NUMBER                                          I192009132   \n",
       "OFFENSE_CODE                                                   1841   \n",
       "OFFENSE_CODE_GROUP                                   Drug Violation   \n",
       "OFFENSE_DESCRIPTION  DRUGS - POSS CLASS A - INTENT TO MFR DIST DISP   \n",
       "DISTRICT                                                         D4   \n",
       "REPORTING_AREA                                                  273   \n",
       "SHOOTING                                                       True   \n",
       "OCCURRED_ON_DATE                                2019-02-04 12:35:00   \n",
       "YEAR                                                           2019   \n",
       "MONTH                                                             2   \n",
       "DAY_OF_WEEK                                                  Monday   \n",
       "HOUR                                                             12   \n",
       "UCR_PART                                                   Part Two   \n",
       "STREET                                               NORTHAMPTON ST   \n",
       "Lat                                                         42.3373   \n",
       "Long                                                       -71.0792   \n",
       "Location                                (42.33729692, -71.07919582)   \n",
       "\n",
       "                                                   55847  \\\n",
       "INCIDENT_NUMBER                               I192009132   \n",
       "OFFENSE_CODE                                         111   \n",
       "OFFENSE_CODE_GROUP                              Homicide   \n",
       "OFFENSE_DESCRIPTION  MURDER, NON-NEGLIGIENT MANSLAUGHTER   \n",
       "DISTRICT                                              D4   \n",
       "REPORTING_AREA                                       273   \n",
       "SHOOTING                                            True   \n",
       "OCCURRED_ON_DATE                     2019-02-04 12:35:00   \n",
       "YEAR                                                2019   \n",
       "MONTH                                                  2   \n",
       "DAY_OF_WEEK                                       Monday   \n",
       "HOUR                                                  12   \n",
       "UCR_PART                                        Part One   \n",
       "STREET                                    NORTHAMPTON ST   \n",
       "Lat                                              42.3373   \n",
       "Long                                            -71.0792   \n",
       "Location                     (42.33729692, -71.07919582)   \n",
       "\n",
       "                                           55848  \n",
       "INCIDENT_NUMBER                       I192009132  \n",
       "OFFENSE_CODE                                2010  \n",
       "OFFENSE_CODE_GROUP                 HOME INVASION  \n",
       "OFFENSE_DESCRIPTION                HOME INVASION  \n",
       "DISTRICT                                      D4  \n",
       "REPORTING_AREA                               273  \n",
       "SHOOTING                                    True  \n",
       "OCCURRED_ON_DATE             2019-02-04 12:35:00  \n",
       "YEAR                                        2019  \n",
       "MONTH                                          2  \n",
       "DAY_OF_WEEK                               Monday  \n",
       "HOUR                                          12  \n",
       "UCR_PART                                     NaN  \n",
       "STREET                            NORTHAMPTON ST  \n",
       "Lat                                      42.3373  \n",
       "Long                                    -71.0792  \n",
       "Location             (42.33729692, -71.07919582)  "
      ]
     },
     "execution_count": 12,
     "metadata": {},
     "output_type": "execute_result"
    }
   ],
   "source": [
    "crime_data[crime_data.INCIDENT_NUMBER == \"I192009132\"].head(3).T"
   ]
  },
  {
   "cell_type": "code",
   "execution_count": 13,
   "metadata": {},
   "outputs": [
    {
     "data": {
      "text/plain": [
       "367158"
      ]
     },
     "execution_count": 13,
     "metadata": {},
     "output_type": "execute_result"
    }
   ],
   "source": [
    "crime_data.INCIDENT_NUMBER.unique().__len__()"
   ]
  },
  {
   "cell_type": "code",
   "execution_count": 14,
   "metadata": {},
   "outputs": [
    {
     "data": {
      "text/plain": [
       "417106"
      ]
     },
     "execution_count": 14,
     "metadata": {},
     "output_type": "execute_result"
    }
   ],
   "source": [
    "crime_data.INCIDENT_NUMBER.count()"
   ]
  },
  {
   "cell_type": "code",
   "execution_count": 15,
   "metadata": {},
   "outputs": [
    {
     "data": {
      "text/plain": [
       "Index(['INCIDENT_NUMBER', 'OFFENSE_CODE', 'OFFENSE_CODE_GROUP',\n",
       "       'OFFENSE_DESCRIPTION', 'DISTRICT', 'REPORTING_AREA', 'SHOOTING',\n",
       "       'OCCURRED_ON_DATE', 'YEAR', 'MONTH', 'DAY_OF_WEEK', 'HOUR', 'UCR_PART',\n",
       "       'STREET', 'Lat', 'Long', 'Location'],\n",
       "      dtype='object')"
      ]
     },
     "execution_count": 15,
     "metadata": {},
     "output_type": "execute_result"
    }
   ],
   "source": [
    "crime_data.columns"
   ]
  },
  {
   "cell_type": "code",
   "execution_count": 22,
   "metadata": {
    "scrolled": true
   },
   "outputs": [
    {
     "data": {
      "text/plain": [
       "<matplotlib.axes._subplots.AxesSubplot at 0x1a19967c18>"
      ]
     },
     "execution_count": 22,
     "metadata": {},
     "output_type": "execute_result"
    },
    {
     "data": {
      "image/png": "[encoded data removed]",
      "text/plain": [
       "<Figure size 842.4x595.44 with 1 Axes>"
      ]
     },
     "metadata": {},
     "output_type": "display_data"
    }
   ],
   "source": [
    "sns.countplot(data=crime_data,\n",
    "              x='DISTRICT'\n",
    "             )"
   ]
  },
  {
   "cell_type": "code",
   "execution_count": 23,
   "metadata": {},
   "outputs": [
    {
     "data": {
      "text/plain": [
       "B2     66506\n",
       "C11    56172\n",
       "D4     53707\n",
       "B3     47210\n",
       "A1     46659\n",
       "C6     30321\n",
       "D14    26125\n",
       "E18    22852\n",
       "E13    22814\n",
       "E5     17338\n",
       "A7     16781\n",
       "A15     8475\n",
       "Name: DISTRICT, dtype: int64"
      ]
     },
     "execution_count": 23,
     "metadata": {},
     "output_type": "execute_result"
    }
   ],
   "source": [
    "crime_data.DISTRICT.value_counts()"
   ]
  },
  {
   "cell_type": "code",
   "execution_count": 24,
   "metadata": {},
   "outputs": [
    {
     "data": {
      "text/plain": [
       "<seaborn.axisgrid.FacetGrid at 0x104549d68>"
      ]
     },
     "execution_count": 24,
     "metadata": {},
     "output_type": "execute_result"
    },
    {
     "data": {
      "image/png": "[encoded data removed]",
      "text/plain": [
       "<Figure size 360x360 with 1 Axes>"
      ]
     },
     "metadata": {},
     "output_type": "display_data"
    }
   ],
   "source": [
    "sns.catplot(x='HOUR',\n",
    "           kind='count',\n",
    "           data=crime_data)"
   ]
  },
  {
   "cell_type": "code",
   "execution_count": 25,
   "metadata": {},
   "outputs": [
    {
     "data": {
      "text/plain": [
       "<matplotlib.axes._subplots.AxesSubplot at 0x1a1e8ce828>"
      ]
     },
     "execution_count": 25,
     "metadata": {},
     "output_type": "execute_result"
    },
    {
     "data": {
      "image/png": "[encoded data removed]",
      "text/plain": [
       "<Figure size 842.4x595.44 with 1 Axes>"
      ]
     },
     "metadata": {},
     "output_type": "display_data"
    }
   ],
   "source": [
    "sns.distplot(crime_data['HOUR'])"
   ]
  },
  {
   "cell_type": "code",
   "execution_count": 26,
   "metadata": {},
   "outputs": [],
   "source": [
    "sns.set(rc={'figure.figsize':(11.7,8.27)})\n"
   ]
  },
  {
   "cell_type": "code",
   "execution_count": 27,
   "metadata": {},
   "outputs": [
    {
     "data": {
      "text/plain": [
       "'2015-06-15 00:00:00'"
      ]
     },
     "execution_count": 27,
     "metadata": {},
     "output_type": "execute_result"
    }
   ],
   "source": [
    "min(crime_data.OCCURRED_ON_DATE)"
   ]
  },
  {
   "cell_type": "code",
   "execution_count": 28,
   "metadata": {},
   "outputs": [
    {
     "data": {
      "text/plain": [
       "'2019-08-28 21:00:00'"
      ]
     },
     "execution_count": 28,
     "metadata": {},
     "output_type": "execute_result"
    }
   ],
   "source": [
    "max(crime_data.OCCURRED_ON_DATE)"
   ]
  },
  {
   "cell_type": "code",
   "execution_count": 29,
   "metadata": {
    "scrolled": false
   },
   "outputs": [
    {
     "data": {
      "text/plain": [
       "<matplotlib.axes._subplots.AxesSubplot at 0x1a19fd94a8>"
      ]
     },
     "execution_count": 29,
     "metadata": {},
     "output_type": "execute_result"
    },
    {
     "data": {
      "image/png": "[encoded data removed]",
      "text/plain": [
       "<Figure size 842.4x595.44 with 1 Axes>"
      ]
     },
     "metadata": {},
     "output_type": "display_data"
    }
   ],
   "source": [
    "sns.countplot(data=crime_data,\n",
    "              x='DISTRICT',\n",
    "              hue='YEAR')"
   ]
  },
  {
   "cell_type": "code",
   "execution_count": 30,
   "metadata": {},
   "outputs": [],
   "source": [
    "crime_data = crime_data[crime_data[\"YEAR\"].isin([2016,2017,2018])]"
   ]
  },
  {
   "cell_type": "code",
   "execution_count": 31,
   "metadata": {},
   "outputs": [
    {
     "data": {
      "text/plain": [
       "2017    101317\n",
       "2016     99415\n",
       "2018     98808\n",
       "Name: YEAR, dtype: int64"
      ]
     },
     "execution_count": 31,
     "metadata": {},
     "output_type": "execute_result"
    }
   ],
   "source": [
    "crime_data.YEAR.value_counts(dropna=False)"
   ]
  },
  {
   "cell_type": "code",
   "execution_count": 32,
   "metadata": {
    "scrolled": false
   },
   "outputs": [
    {
     "data": {
      "text/plain": [
       "<matplotlib.axes._subplots.AxesSubplot at 0x1a21cf6240>"
      ]
     },
     "execution_count": 32,
     "metadata": {},
     "output_type": "execute_result"
    },
    {
     "data": {
      "image/png": "[encoded data removed]",
      "text/plain": [
       "<Figure size 842.4x595.44 with 1 Axes>"
      ]
     },
     "metadata": {},
     "output_type": "display_data"
    }
   ],
   "source": [
    "sns.countplot(data=crime_data,\n",
    "              x='DISTRICT',\n",
    "              hue='YEAR')"
   ]
  },
  {
   "cell_type": "code",
   "execution_count": 33,
   "metadata": {},
   "outputs": [
    {
     "data": {
      "text/plain": [
       "<matplotlib.axes._subplots.AxesSubplot at 0x1a1b5d45f8>"
      ]
     },
     "execution_count": 33,
     "metadata": {},
     "output_type": "execute_result"
    },
    {
     "data": {
      "image/png": "[encoded data removed]",
      "text/plain": [
       "<Figure size 842.4x595.44 with 1 Axes>"
      ]
     },
     "metadata": {},
     "output_type": "display_data"
    }
   ],
   "source": [
    "sns.countplot(data=crime_data,\n",
    "              x='DISTRICT')"
   ]
  },
  {
   "cell_type": "code",
   "execution_count": 34,
   "metadata": {
    "scrolled": true
   },
   "outputs": [
    {
     "data": {
      "text/plain": [
       "B2     47424\n",
       "C11    40492\n",
       "D4     38153\n",
       "B3     34353\n",
       "A1     33239\n",
       "C6     21713\n",
       "D14    18967\n",
       "E13    16550\n",
       "E18    16329\n",
       "E5     12451\n",
       "A7     11949\n",
       "A15     6218\n",
       "Name: DISTRICT, dtype: int64"
      ]
     },
     "execution_count": 34,
     "metadata": {},
     "output_type": "execute_result"
    }
   ],
   "source": [
    "crime_data.DISTRICT.value_counts()"
   ]
  },
  {
   "cell_type": "code",
   "execution_count": 35,
   "metadata": {},
   "outputs": [
    {
     "data": {
      "text/plain": [
       "<matplotlib.axes._subplots.AxesSubplot at 0x1a1b636128>"
      ]
     },
     "execution_count": 35,
     "metadata": {},
     "output_type": "execute_result"
    },
    {
     "data": {
      "image/png": "[encoded data removed]",
      "text/plain": [
       "<Figure size 842.4x595.44 with 1 Axes>"
      ]
     },
     "metadata": {},
     "output_type": "display_data"
    }
   ],
   "source": [
    "sns.countplot(data=crime_data,\n",
    "              x='YEAR',\n",
    "              hue='DISTRICT', palette=\"Set2\")"
   ]
  },
  {
   "cell_type": "code",
   "execution_count": 36,
   "metadata": {},
   "outputs": [
    {
     "data": {
      "text/html": [
       "<div>\n",
       "<style scoped>\n",
       "    .dataframe tbody tr th:only-of-type {\n",
       "        vertical-align: middle;\n",
       "    }\n",
       "\n",
       "    .dataframe tbody tr th {\n",
       "        vertical-align: top;\n",
       "    }\n",
       "\n",
       "    .dataframe thead th {\n",
       "        text-align: right;\n",
       "    }\n",
       "</style>\n",
       "<table border=\"1\" class=\"dataframe\">\n",
       "  <thead>\n",
       "    <tr style=\"text-align: right;\">\n",
       "      <th>YEAR</th>\n",
       "      <th>2016</th>\n",
       "      <th>2017</th>\n",
       "      <th>2018</th>\n",
       "    </tr>\n",
       "    <tr>\n",
       "      <th>DISTRICT</th>\n",
       "      <th></th>\n",
       "      <th></th>\n",
       "      <th></th>\n",
       "    </tr>\n",
       "  </thead>\n",
       "  <tbody>\n",
       "    <tr>\n",
       "      <th>A1</th>\n",
       "      <td>10839</td>\n",
       "      <td>11358</td>\n",
       "      <td>11042</td>\n",
       "    </tr>\n",
       "    <tr>\n",
       "      <th>A15</th>\n",
       "      <td>1990</td>\n",
       "      <td>2195</td>\n",
       "      <td>2033</td>\n",
       "    </tr>\n",
       "    <tr>\n",
       "      <th>A7</th>\n",
       "      <td>4055</td>\n",
       "      <td>4094</td>\n",
       "      <td>3800</td>\n",
       "    </tr>\n",
       "    <tr>\n",
       "      <th>B2</th>\n",
       "      <td>15805</td>\n",
       "      <td>15972</td>\n",
       "      <td>15647</td>\n",
       "    </tr>\n",
       "    <tr>\n",
       "      <th>B3</th>\n",
       "      <td>11202</td>\n",
       "      <td>11596</td>\n",
       "      <td>11555</td>\n",
       "    </tr>\n",
       "    <tr>\n",
       "      <th>C11</th>\n",
       "      <td>13801</td>\n",
       "      <td>13734</td>\n",
       "      <td>12957</td>\n",
       "    </tr>\n",
       "    <tr>\n",
       "      <th>C6</th>\n",
       "      <td>6922</td>\n",
       "      <td>7297</td>\n",
       "      <td>7494</td>\n",
       "    </tr>\n",
       "    <tr>\n",
       "      <th>D14</th>\n",
       "      <td>6275</td>\n",
       "      <td>6538</td>\n",
       "      <td>6154</td>\n",
       "    </tr>\n",
       "    <tr>\n",
       "      <th>D4</th>\n",
       "      <td>13019</td>\n",
       "      <td>12761</td>\n",
       "      <td>12373</td>\n",
       "    </tr>\n",
       "    <tr>\n",
       "      <th>E13</th>\n",
       "      <td>5610</td>\n",
       "      <td>5473</td>\n",
       "      <td>5467</td>\n",
       "    </tr>\n",
       "    <tr>\n",
       "      <th>E18</th>\n",
       "      <td>5211</td>\n",
       "      <td>5608</td>\n",
       "      <td>5510</td>\n",
       "    </tr>\n",
       "    <tr>\n",
       "      <th>E5</th>\n",
       "      <td>4202</td>\n",
       "      <td>4157</td>\n",
       "      <td>4092</td>\n",
       "    </tr>\n",
       "  </tbody>\n",
       "</table>\n",
       "</div>"
      ],
      "text/plain": [
       "YEAR       2016   2017   2018\n",
       "DISTRICT                     \n",
       "A1        10839  11358  11042\n",
       "A15        1990   2195   2033\n",
       "A7         4055   4094   3800\n",
       "B2        15805  15972  15647\n",
       "B3        11202  11596  11555\n",
       "C11       13801  13734  12957\n",
       "C6         6922   7297   7494\n",
       "D14        6275   6538   6154\n",
       "D4        13019  12761  12373\n",
       "E13        5610   5473   5467\n",
       "E18        5211   5608   5510\n",
       "E5         4202   4157   4092"
      ]
     },
     "execution_count": 36,
     "metadata": {},
     "output_type": "execute_result"
    }
   ],
   "source": [
    "crime_data.groupby(['DISTRICT', 'YEAR']).size().unstack(fill_value=0)"
   ]
  },
  {
   "cell_type": "code",
   "execution_count": 37,
   "metadata": {},
   "outputs": [
    {
     "data": {
      "text/plain": [
       "299540"
      ]
     },
     "execution_count": 37,
     "metadata": {},
     "output_type": "execute_result"
    }
   ],
   "source": [
    "len(crime_data)"
   ]
  },
  {
   "cell_type": "code",
   "execution_count": 38,
   "metadata": {},
   "outputs": [
    {
     "data": {
      "text/plain": [
       "299540"
      ]
     },
     "execution_count": 38,
     "metadata": {},
     "output_type": "execute_result"
    }
   ],
   "source": [
    "crime_data.__len__()"
   ]
  },
  {
   "cell_type": "markdown",
   "metadata": {},
   "source": [
    "## Map Plotting <a class=\"anchor\" id=\"map\"></a>"
   ]
  },
  {
   "cell_type": "code",
   "execution_count": 3,
   "metadata": {},
   "outputs": [
    {
     "data": {
      "text/plain": [
       "<folium.plugins.heat_map.HeatMap at 0x1a2be30400>"
      ]
     },
     "execution_count": 3,
     "metadata": {},
     "output_type": "execute_result"
    }
   ],
   "source": [
    "crime_map = folium.Map(location=[42.3125,-71.0875], \n",
    "                       tiles = \"Stamen Toner\",\n",
    "                       zoom_start = 11)\n",
    "data_heatmap = crime_data[crime_data.YEAR == 2018]\n",
    "data_heatmap = crime_data[['Lat','Long']]\n",
    "data_heatmap = crime_data.dropna(axis=0, subset=['Lat','Long'])\n",
    "data_heatmap = [[row['Lat'],row['Long']] for index, row in data_heatmap.iterrows()]\n",
    "HeatMap(data_heatmap, radius=10).add_to(crime_map)\n",
    "crime_map.save(\"output/boston_crime_map.html\")"
   ]
  }
 ],
 "metadata": {
  "kernelspec": {
   "display_name": "Python 3.7.6 64-bit ('mlbook_dev': venv)",
   "language": "python",
   "name": "python37664bitmlbookdevvenv798076fc6c1b45f7b2be467938d9ac45"
  },
  "language_info": {
   "codemirror_mode": {
    "name": "ipython",
    "version": 3
   },
   "file_extension": ".py",
   "mimetype": "text/x-python",
   "name": "python",
   "nbconvert_exporter": "python",
   "pygments_lexer": "ipython3",
   "version": "3.7.6-final"
  }
 },
 "nbformat": 4,
 "nbformat_minor": 2
}